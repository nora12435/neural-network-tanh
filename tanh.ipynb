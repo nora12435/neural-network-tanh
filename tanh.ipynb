{
 "cells": [
  {
   "cell_type": "code",
   "execution_count": 1,
   "id": "998f674d-1d7e-425c-bf35-667f46048fef",
   "metadata": {},
   "outputs": [],
   "source": [
    "import numpy as np"
   ]
  },
  {
   "cell_type": "code",
   "execution_count": 2,
   "id": "b4b879cd-bb41-4721-ae38-7e1364b787f1",
   "metadata": {},
   "outputs": [],
   "source": [
    "def tanh(x):\n",
    "    return np.tanh(x)"
   ]
  },
  {
   "cell_type": "code",
   "execution_count": 3,
   "id": "7cef11f6-9b5a-4ce9-80da-d1d0b6bbcf59",
   "metadata": {},
   "outputs": [],
   "source": [
    "np.random.seed(42)  \n",
    "w1 = np.random.uniform(-0.5, 0.5, (2, 2))  \n",
    "w2 = np.random.uniform(-0.5, 0.5, (2, 1))  "
   ]
  },
  {
   "cell_type": "code",
   "execution_count": 4,
   "id": "31792b7f-8b13-447c-81fb-ca76be7aebbf",
   "metadata": {},
   "outputs": [],
   "source": [
    "b1 = np.array([0.5, 0.7])  \n",
    "b2 = np.array([0.5])   "
   ]
  },
  {
   "cell_type": "code",
   "execution_count": 5,
   "id": "32a110a7-ee58-44bb-87d8-e79e00e26f4e",
   "metadata": {},
   "outputs": [],
   "source": [
    "x = np.array([0.3, 0.7])"
   ]
  },
  {
   "cell_type": "code",
   "execution_count": 6,
   "id": "4ba74b86-7b0a-496e-870e-faf3c8aea398",
   "metadata": {},
   "outputs": [],
   "source": [
    "hidden_input = np.dot(x, w1) + b1  \n",
    "hidden_output = tanh(hidden_input)  \n",
    "\n",
    "final_input = np.dot(hidden_output, w2) + b2  \n",
    "final_output = tanh(final_input)  "
   ]
  },
  {
   "cell_type": "code",
   "execution_count": 7,
   "id": "ecc0edd7-cca4-41eb-b003-f1761207cd37",
   "metadata": {},
   "outputs": [
    {
     "name": "stdout",
     "output_type": "stream",
     "text": [
      "Input: [0.3 0.7]\n",
      "Hidden layer output: [0.55443199 0.71837319]\n",
      "Final output: [0.06208148]\n"
     ]
    }
   ],
   "source": [
    "print(\"Input:\", x)\n",
    "print(\"Hidden layer output:\", hidden_output)\n",
    "print(\"Final output:\", final_output)"
   ]
  },
  {
   "cell_type": "code",
   "execution_count": null,
   "id": "52605d31-3a0a-492a-bba8-00b346987aee",
   "metadata": {},
   "outputs": [],
   "source": []
  }
 ],
 "metadata": {
  "kernelspec": {
   "display_name": "Python 3 (ipykernel)",
   "language": "python",
   "name": "python3"
  },
  "language_info": {
   "codemirror_mode": {
    "name": "ipython",
    "version": 3
   },
   "file_extension": ".py",
   "mimetype": "text/x-python",
   "name": "python",
   "nbconvert_exporter": "python",
   "pygments_lexer": "ipython3",
   "version": "3.11.9"
  }
 },
 "nbformat": 4,
 "nbformat_minor": 5
}
